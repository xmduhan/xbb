{
 "cells": [
  {
   "cell_type": "code",
   "execution_count": 1,
   "metadata": {
    "collapsed": true
   },
   "outputs": [],
   "source": [
    "import pandas as pd\n",
    "from pandas import DataFrame,Series\n",
    "from pandas.io.excel import ExcelWriter"
   ]
  },
  {
   "cell_type": "code",
   "execution_count": 2,
   "metadata": {
    "collapsed": true
   },
   "outputs": [],
   "source": [
    "dx = 25\n",
    "dy = 25\n",
    "x_min = 500\n",
    "x_max = 2400\n",
    "y_min = 0\n",
    "y_max = 1000\n",
    "#sheetname = 'highstone'\n",
    "#sheetname = 'middlesand'\n",
    "#sheetname = 'lowcoal'\n",
    "#sheetname = 'running'\n",
    "sheetname = 'all'"
   ]
  },
  {
   "cell_type": "code",
   "execution_count": 3,
   "metadata": {
    "collapsed": false
   },
   "outputs": [
    {
     "data": {
      "text/plain": [
       "(   发动机转速-rpm  扭矩-N.m\n",
       " 0     708.63   110.4\n",
       " 1    1489.38   395.6\n",
       " 2    1689.75   588.8\n",
       " 3    1773.00   515.2\n",
       " 4    1996.25   506.0, 725)"
      ]
     },
     "execution_count": 3,
     "metadata": {},
     "output_type": "execute_result"
    }
   ],
   "source": [
    "columns = [u'发动机转速-rpm',u'扭矩-N.m']\n",
    "data1 = pd.io.excel.read_excel(u'data/重石中沙轻煤跑车合.xls','highstone')[columns]\n",
    "data2 = pd.io.excel.read_excel(u'data/重石中沙轻煤跑车合.xls','middlesand')[columns]\n",
    "data3 = pd.io.excel.read_excel(u'data/重石中沙轻煤跑车合.xls','lowcoal')[columns]\n",
    "data4 = pd.io.excel.read_excel(u'data/重石中沙轻煤跑车合.xls','running')[columns]\n",
    "data = pd.concat([data1,data2,data3,data4])\n",
    "data.head(),len(data)\n",
    "#data[u'发动机转速-rpm'].head()"
   ]
  },
  {
   "cell_type": "code",
   "execution_count": 6,
   "metadata": {
    "collapsed": false
   },
   "outputs": [],
   "source": [
    "x = data[u'发动机转速-rpm'].apply(lambda x:trunc(x/dx)*dx)\n",
    "y = data[u'扭矩-N.m'].apply(lambda x:round(x/dy)*dy)\n",
    "x = Series(list(x))\n",
    "y = Series(list(y))"
   ]
  },
  {
   "cell_type": "code",
   "execution_count": 7,
   "metadata": {
    "collapsed": false
   },
   "outputs": [],
   "source": [
    "df = DataFrame({'x':x,'y':y,'c':[1]*len(x)})\n",
    "x_all = range(x_min,x_max+dx,dx)\n",
    "df_x_all = DataFrame({'x':x_all,'y':[y_min]*len(x_all),'c':[0]*len(x_all)})\n",
    "y_all = range(y_min,y_max+dy,dy)\n",
    "df_y_all = DataFrame({'x':[x_min]*len(y_all),'y':y_all,'c':[0]*len(y_all)})\n",
    "df = pd.concat([df,df_x_all,df_y_all])\n",
    "df = df.groupby(['x','y'])['c'].sum()\n",
    "df = df.fillna(0)\n",
    "df = df.unstack()\n",
    "df = df.fillna(0)\n",
    "df = df.swapaxes(0,1)\n",
    "df = df.sort_index(ascending=False)\n",
    "writer = ExcelWriter('/home/duhan/data/%s.xls' % sheetname )\n",
    "df.to_excel(writer)\n",
    "writer.save()"
   ]
  }
 ],
 "metadata": {
  "kernelspec": {
   "display_name": "Python 2",
   "language": "python",
   "name": "python2"
  },
  "language_info": {
   "codemirror_mode": {
    "name": "ipython",
    "version": 2
   },
   "file_extension": ".py",
   "mimetype": "text/x-python",
   "name": "python",
   "nbconvert_exporter": "python",
   "pygments_lexer": "ipython2",
   "version": "2.7.6"
  }
 },
 "nbformat": 4,
 "nbformat_minor": 0
}
