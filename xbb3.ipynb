{
 "cells": [
  {
   "cell_type": "code",
   "execution_count": 4,
   "metadata": {
    "collapsed": true
   },
   "outputs": [],
   "source": [
    "# 导入相关库\n",
    "import pandas as pd\n",
    "from pandas import DataFrame,Series\n",
    "from pandas.io.excel import ExcelWriter"
   ]
  },
  {
   "cell_type": "code",
   "execution_count": 5,
   "metadata": {
    "collapsed": true
   },
   "outputs": [],
   "source": [
    "# 定义参数\n",
    "dx = 200\n",
    "dy = 100\n",
    "x_min = 400\n",
    "x_max = 2400\n",
    "y_min = 0\n",
    "y_max = 1000\n",
    "inputFileName = u'data/重石中沙轻煤跑车合.xls'\n",
    "outputFileName = u'data/重石中沙轻煤跑车合(dx=200,dx=100).xls'\n",
    "sheets = ['highstone','middlesand','lowcoal','running']\n",
    "x_column = u'发动机转速-rpm'\n",
    "y_column = u'扭矩-N.m'\n",
    "columns = [x_column,y_column]"
   ]
  },
  {
   "cell_type": "code",
   "execution_count": 6,
   "metadata": {
    "collapsed": true
   },
   "outputs": [],
   "source": [
    "# 定义数据转化函数\n",
    "def transform(data):\n",
    "    x = data[x_column].apply(lambda x:trunc(x/dx)*dx)\n",
    "    y = data[y_column].apply(lambda x:round(x/dy)*dy)\n",
    "    x = Series(list(x))\n",
    "    y = Series(list(y))\n",
    "    df = DataFrame({'x':x,'y':y,'c':[1]*len(x)})\n",
    "    x_all = range(x_min,x_max+dx,dx)\n",
    "    df_x_all = DataFrame({'x':x_all,'y':[y_min]*len(x_all),'c':[0]*len(x_all)})\n",
    "    y_all = range(y_min,y_max+dy,dy)\n",
    "    df_y_all = DataFrame({'x':[x_min]*len(y_all),'y':y_all,'c':[0]*len(y_all)})\n",
    "    df = pd.concat([df,df_x_all,df_y_all])\n",
    "    df = df.groupby(['x','y'])['c'].sum()\n",
    "    df = df.fillna(0)\n",
    "    df = df.unstack()\n",
    "    df = df.fillna(0)\n",
    "    df = df.swapaxes(0,1)\n",
    "    df = df.sort_index(ascending=False)\n",
    "    return df"
   ]
  },
  {
   "cell_type": "code",
   "execution_count": 8,
   "metadata": {
    "collapsed": false
   },
   "outputs": [],
   "source": [
    "# 生成数据\n",
    "writer = ExcelWriter(outputFileName)\n",
    "\n",
    "# 转化每一个sheet数据\n",
    "dataList = []\n",
    "for i,sheet in enumerate(sheets):\n",
    "    data = pd.io.excel.read_excel(inputFileName,sheet)[columns]\n",
    "    df = transform(data)\n",
    "    df.to_excel(writer,sheet)\n",
    "    dataList.append(data)\n",
    "\n",
    "# 生成汇总数据\n",
    "dataAll = pd.concat(dataList)\n",
    "df = transform(dataAll)\n",
    "df.to_excel(writer,'all')\n",
    "\n",
    "# 保存\n",
    "writer.save()"
   ]
  },
  {
   "cell_type": "code",
   "execution_count": null,
   "metadata": {
    "collapsed": true
   },
   "outputs": [],
   "source": []
  }
 ],
 "metadata": {
  "kernelspec": {
   "display_name": "Python 2",
   "language": "python",
   "name": "python2"
  },
  "language_info": {
   "codemirror_mode": {
    "name": "ipython",
    "version": 2
   },
   "file_extension": ".py",
   "mimetype": "text/x-python",
   "name": "python",
   "nbconvert_exporter": "python",
   "pygments_lexer": "ipython2",
   "version": "2.7.6"
  }
 },
 "nbformat": 4,
 "nbformat_minor": 0
}
